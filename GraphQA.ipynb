{
  "cells": [
    {
      "cell_type": "code",
      "execution_count": 1,
      "metadata": {
        "id": "5iOfPgx-e7sG"
      },
      "outputs": [],
      "source": [
        "from flask import Flask, request, jsonify\n",
        "from langchain_neo4j import Neo4jGraph\n",
        "from langchain_groq import ChatGroq\n",
        "from langchain_core.prompts import ChatPromptTemplate\n",
        "from pydantic import BaseModel,Field\n",
        "from typing import List, Sequence,Literal,Annotated\n",
        "from typing_extensions import TypedDict\n",
        "from langgraph.graph import StateGraph, START, END\n",
        "from langgraph.checkpoint.memory import MemorySaver\n",
        "from langgraph.graph.message import add_messages\n",
        "from langchain_core.messages import BaseMessage, ToolMessage\n",
        "import requests\n",
        "from langchain_community.vectorstores import Chroma\n",
        "from langchain_chroma import Chroma\n",
        "from langchain_community.tools.tavily_search import TavilySearchResults\n",
        "from operator import add"
      ]
    },
    {
      "cell_type": "code",
      "execution_count": 4,
      "metadata": {
        "id": "xuoaP4_Ae7sJ"
      },
      "outputs": [],
      "source": [
        "import os\n",
        "from dotenv import load_dotenv\n",
        "load_dotenv()\n",
        "\n",
        "groq_api_key=os.getenv(\"GROQ_API_KEY\")"
      ]
    },
    {
      "cell_type": "code",
      "execution_count": 5,
      "metadata": {
        "colab": {
          "base_uri": "https://localhost:8080/"
        },
        "id": "rNbpNrW2e7sJ",
        "outputId": "f3cda614-7a9f-41a9-a566-251b8b77bb29"
      },
      "outputs": [
        {
          "output_type": "execute_result",
          "data": {
            "text/plain": [
              "ChatGroq(client=<groq.resources.chat.completions.Completions object at 0x7fee42dd9ed0>, async_client=<groq.resources.chat.completions.AsyncCompletions object at 0x7fee42be45d0>, model_name='Gemma2-9b-It', model_kwargs={}, groq_api_key=SecretStr('**********'))"
            ]
          },
          "metadata": {},
          "execution_count": 5
        }
      ],
      "source": [
        "from langchain_groq import ChatGroq\n",
        "llm=ChatGroq(groq_api_key=groq_api_key,model_name=\"Gemma2-9b-It\")\n",
        "llm"
      ]
    },
    {
      "cell_type": "code",
      "execution_count": 155,
      "metadata": {
        "id": "X2bGFcGZe7sK"
      },
      "outputs": [],
      "source": [
        "NEO4J_URI=os.getenv(\"NEO4J_URI\")\n",
        "NEO4J_USERNAME=os.getenv(\"NEO4J_USERNAME\")\n",
        "NEO4J_PASSWORD=os.getenv(\"NEO4J_PASSWORD\")"
      ]
    },
    {
      "cell_type": "code",
      "execution_count": 156,
      "metadata": {
        "colab": {
          "base_uri": "https://localhost:8080/"
        },
        "id": "Rj4aFKn0e7sK",
        "outputId": "cb9162aa-31af-41b8-bd2d-ba7630776974"
      },
      "outputs": [
        {
          "output_type": "stream",
          "name": "stderr",
          "text": [
            "WARNING:neo4j.notifications:Received notification from DBMS server: {severity: WARNING} {code: Neo.ClientNotification.Statement.FeatureDeprecationWarning} {category: DEPRECATION} {title: This feature is deprecated and will be removed in future versions.} {description: The procedure has a deprecated field. ('config' used by 'apoc.meta.graphSample' is deprecated.)} {position: line: 1, column: 1, offset: 0} for query: \"CALL apoc.meta.graphSample() YIELD nodes, relationships RETURN nodes, [rel in relationships | {name:apoc.any.property(rel, 'type'), count: apoc.any.property(rel, 'count')}] AS relationships\"\n"
          ]
        }
      ],
      "source": [
        "from langchain_community.graphs import Neo4jGraph\n",
        "graph=Neo4jGraph(url=NEO4J_URI,username=NEO4J_USERNAME,password=NEO4J_PASSWORD,enhanced_schema=True)"
      ]
    },
    {
      "cell_type": "code",
      "execution_count": 157,
      "metadata": {
        "id": "dyHguQMHe7sL"
      },
      "outputs": [],
      "source": [
        "## Dataset Moview\n",
        "movie_query=\"\"\"\n",
        "LOAD CSV WITH HEADERS FROM\n",
        "'https://raw.githubusercontent.com/tomasonjo/blog-datasets/main/movies/movies_small.csv' as row\n",
        "\n",
        "MERGE(m:Movie{id:row.movieId})\n",
        "SET m.released = date(row.released),\n",
        "    m.title = row.title,\n",
        "    m.imdbRating = toFloat(row.imdbRating)\n",
        "FOREACH (director in split(row.director, '|') |\n",
        "    MERGE (p:Person {name:trim(director)})\n",
        "    MERGE (p)-[:DIRECTED]->(m))\n",
        "FOREACH (actor in split(row.actors, '|') |\n",
        "    MERGE (p:Person {name:trim(actor)})\n",
        "    MERGE (p)-[:ACTED_IN]->(m))\n",
        "FOREACH (genre in split(row.genres, '|') |\n",
        "    MERGE (g:Genre {name:trim(genre)})\n",
        "    MERGE (m)-[:IN_GENRE]->(g))\n",
        "\n",
        "\n",
        "\"\"\""
      ]
    },
    {
      "cell_type": "code",
      "execution_count": 158,
      "metadata": {
        "colab": {
          "base_uri": "https://localhost:8080/"
        },
        "id": "taZ4FlCDe7sL",
        "outputId": "4a8b2931-1440-4520-8132-84ae97f2a165"
      },
      "outputs": [
        {
          "output_type": "execute_result",
          "data": {
            "text/plain": [
              "[]"
            ]
          },
          "metadata": {},
          "execution_count": 158
        }
      ],
      "source": [
        "graph.query(movie_query)"
      ]
    },
    {
      "cell_type": "code",
      "execution_count": 159,
      "metadata": {
        "id": "RRDrrDgee7sM"
      },
      "outputs": [],
      "source": [
        "class State(TypedDict):\n",
        "    messages: Annotated[List[str],add]\n",
        "    cypher_statement: str = \"\"\n",
        "    cypher_errors: List[str] = []\n",
        "    next_action: List[str] = []\n",
        "    database_records: List[dict] = []\n",
        "    ask_human: bool = False\n"
      ]
    },
    {
      "cell_type": "code",
      "execution_count": 160,
      "metadata": {
        "id": "u6TGlEaVe7sM"
      },
      "outputs": [],
      "source": [
        "guardrails_system = \"\"\"\n",
        "You are an intelligent assistant tasked with determining whether a given question is related to movies.\n",
        "If the question mentions a movie, actor, director, film industry, or any related topic, output \"movie\".\n",
        "Otherwise, output \"end\".\n",
        "Provide only the specified output: \"movie\" or \"end\", with no additional text.\n",
        "\"\"\"\n",
        "guardrails_prompt = ChatPromptTemplate.from_messages(\n",
        "    [\n",
        "        (\n",
        "            \"system\",\n",
        "            guardrails_system,\n",
        "        ),\n",
        "        (\n",
        "            \"human\",\n",
        "            (\"{question}\"),\n",
        "        ),\n",
        "    ]\n",
        ")\n"
      ]
    },
    {
      "cell_type": "code",
      "execution_count": 161,
      "metadata": {
        "id": "tUclv99te7sM"
      },
      "outputs": [],
      "source": [
        "class GuardrailsOutput(BaseModel):\n",
        "    decision: Literal[\"movie\", \"web\"] = Field(\n",
        "        description=\"Decision on whether the question is related to movies\"\n",
        "    )\n",
        "\n",
        "guardrails_chain = guardrails_prompt | llm.with_structured_output(GuardrailsOutput)"
      ]
    },
    {
      "cell_type": "code",
      "execution_count": 162,
      "metadata": {
        "id": "u8982fvVe7sN"
      },
      "outputs": [],
      "source": [
        "def guardrails(state: State) -> State:\n",
        "    \"\"\"\n",
        "    Decides if the question is related to movies or not.\n",
        "    \"\"\"\n",
        "    guardrails_output = guardrails_chain.invoke({\"question\": state.get(\"messages\")[0]})\n",
        "    database_records = None\n",
        "    if guardrails_output.decision == \"web\":\n",
        "        database_records = \"This question is unrelated to movies or their cast, so I’m unable to answer it.\"\n",
        "    return {\n",
        "        \"next_action\": guardrails_output.decision,\n",
        "        \"database_records\": database_records\n",
        "    }"
      ]
    },
    {
      "cell_type": "code",
      "execution_count": 163,
      "metadata": {
        "id": "rMNRNQDYe7sN"
      },
      "outputs": [],
      "source": [
        "import getpass\n",
        "import os\n",
        "\n",
        "if not os.environ.get(\"TAVILY_API_KEY\"):\n",
        "    os.environ[\"TAVILY_API_KEY\"] = getpass.getpass(\"Tavily API key:\\n\")"
      ]
    },
    {
      "cell_type": "code",
      "execution_count": 164,
      "metadata": {
        "id": "z4nJT9OTe7sN"
      },
      "outputs": [],
      "source": [
        "tavily_search = TavilySearchResults(max_results=2)"
      ]
    },
    {
      "cell_type": "code",
      "execution_count": 165,
      "metadata": {
        "id": "3ERpVFMYe7sN"
      },
      "outputs": [],
      "source": [
        "def tavily_search_node(state: State) -> State:\n",
        "    \"\"\"Handle out-of-context queries using Tavily search.\"\"\"\n",
        "    results = tavily_search.invoke({\"query\": state.get(\"messages\")[0]})\n",
        "    return { \"messages\" : results    }"
      ]
    },
    {
      "cell_type": "code",
      "execution_count": 166,
      "metadata": {
        "id": "CBMLEvVNe7sN"
      },
      "outputs": [],
      "source": [
        "from langchain_core.example_selectors import SemanticSimilarityExampleSelector\n",
        "from langchain_neo4j import Neo4jVector\n",
        "from langchain_huggingface import HuggingFaceEmbeddings"
      ]
    },
    {
      "cell_type": "code",
      "execution_count": 167,
      "metadata": {
        "id": "w7sJjkOIe7sN"
      },
      "outputs": [],
      "source": [
        "examples = [\n",
        "    {\n",
        "        \"question\": \"How many artists are there?\",\n",
        "        \"query\": \"MATCH (a:Person)-[:ACTED_IN]->(:Movie) RETURN count(DISTINCT a)\",\n",
        "    },\n",
        "    {\n",
        "        \"question\": \"Which actors played in the movie Casino?\",\n",
        "        \"query\": \"MATCH (m:Movie {title: 'Casino'})<-[:ACTED_IN]-(a) RETURN a.name\",\n",
        "    },\n",
        "    {\n",
        "        \"question\": \"How many movies has Tom Hanks acted in?\",\n",
        "        \"query\": \"MATCH (a:Person {name: 'Tom Hanks'})-[:ACTED_IN]->(m:Movie) RETURN count(m)\",\n",
        "    },\n",
        "    {\n",
        "        \"question\": \"List all the genres of the movie Schindler's List\",\n",
        "        \"query\": \"MATCH (m:Movie {title: 'Schindler's List'})-[:IN_GENRE]->(g:Genre) RETURN g.name\",\n",
        "    },\n",
        "    {\n",
        "        \"question\": \"Which actors have worked in movies from both the comedy and action genres?\",\n",
        "        \"query\": \"MATCH (a:Person)-[:ACTED_IN]->(:Movie)-[:IN_GENRE]->(g1:Genre), (a)-[:ACTED_IN]->(:Movie)-[:IN_GENRE]->(g2:Genre) WHERE g1.name = 'Comedy' AND g2.name = 'Action' RETURN DISTINCT a.name\",\n",
        "    },\n",
        "    {\n",
        "        \"question\": \"Which directors have made movies with at least three different actors named 'John'?\",\n",
        "        \"query\": \"MATCH (d:Person)-[:DIRECTED]->(m:Movie)<-[:ACTED_IN]-(a:Person) WHERE a.name STARTS WITH 'John' WITH d, COUNT(DISTINCT a) AS JohnsCount WHERE JohnsCount >= 3 RETURN d.name\",\n",
        "    },\n",
        "    {\n",
        "        \"question\": \"Identify movies where directors also played a role in the film.\",\n",
        "        \"query\": \"MATCH (p:Person)-[:DIRECTED]->(m:Movie), (p)-[:ACTED_IN]->(m) RETURN m.title, p.name\",\n",
        "    },\n",
        "    {\n",
        "        \"question\": \"Find the actor with the highest number of movies in the database.\",\n",
        "        \"query\": \"MATCH (a:Actor)-[:ACTED_IN]->(m:Movie) RETURN a.name, COUNT(m) AS movieCount ORDER BY movieCount DESC LIMIT 1\",\n",
        "    },\n",
        "    {\n",
        "        \"question\": \"List all movies directed by Christopher Nolan.\",\n",
        "        \"query\": \"MATCH (p:Person {name: 'Christopher Nolan'})-[:DIRECTED]->(m:Movie) RETURN m.title\",\n",
        "    },\n",
        "    {\n",
        "        \"question\": \"Which actors have worked in at least five different movies?\",\n",
        "        \"query\": \"MATCH (a:Person)-[:ACTED_IN]->(m:Movie) WITH a, COUNT(m) AS movieCount WHERE movieCount >= 5 RETURN a.name\",\n",
        "    },\n",
        "    {\n",
        "        \"question\": \"What are the names of all movies released in the year 1995?\",\n",
        "        \"query\": \"MATCH (m:Movie) WHERE m.released >= date('1995-01-01') AND m.released <= date('1995-12-31') RETURN m.title\",\n",
        "    },\n",
        "    {\n",
        "        \"question\": \"Find all movies that have a rating higher than 8.5.\",\n",
        "        \"query\": \"MATCH (m:Movie) WHERE m.imdbRating > 8.5 RETURN m.title\",\n",
        "    },\n",
        "    {\n",
        "        \"question\": \"Which movies have both Robert De Niro and Al Pacino acting together?\",\n",
        "        \"query\": \"MATCH (m:Movie)<-[:ACTED_IN]-(a1:Person {name: 'Robert De Niro'}), (m)<-[:ACTED_IN]-(a2:Person {name: 'Al Pacino'}) RETURN m.title\",\n",
        "    },\n",
        "    {\n",
        "        \"question\": \"Find the top three highest-rated movies.\",\n",
        "        \"query\": \"MATCH (m:Movie) RETURN m.title, m.imdbRating ORDER BY m.imdbRating DESC LIMIT 3\",\n",
        "    },\n",
        "    {\n",
        "        \"question\": \"Which genres does the movie 'Inception' belong to?\",\n",
        "        \"query\": \"MATCH (m:Movie {title: 'Inception'})-[:IN_GENRE]->(g:Genre) RETURN g.name\",\n",
        "    },\n",
        "    {\n",
        "        \"question\": \"Which actors have worked with Steven Spielberg?\",\n",
        "        \"query\": \"MATCH (d:Person {name: 'Steven Spielberg'})-[:DIRECTED]->(m:Movie)<-[:ACTED_IN]-(a:Person) RETURN DISTINCT a.name\",\n",
        "    },\n",
        "    {\n",
        "        \"question\": \"Find all movies that belong to both the Drama and Thriller genres.\",\n",
        "        \"query\": \"MATCH (m:Movie)-[:IN_GENRE]->(g1:Genre), (m)-[:IN_GENRE]->(g2:Genre) WHERE g1.name = 'Drama' AND g2.name = 'Thriller' RETURN m.title\",\n",
        "    },\n",
        "    {\n",
        "        \"question\": \"Who has directed the most number of movies?\",\n",
        "        \"query\": \"MATCH (d:Person)-[:DIRECTED]->(m:Movie) RETURN d.name, COUNT(m) AS movieCount ORDER BY movieCount DESC LIMIT 1\",\n",
        "    }\n",
        "]"
      ]
    },
    {
      "cell_type": "code",
      "execution_count": 168,
      "metadata": {
        "id": "-QTSIrtJe7sO"
      },
      "outputs": [],
      "source": [
        "example_selector = SemanticSimilarityExampleSelector.from_examples(\n",
        "    examples,\n",
        "    HuggingFaceEmbeddings(),\n",
        "    Chroma,\n",
        "    k=3,\n",
        "    input_keys=['question'])"
      ]
    },
    {
      "cell_type": "code",
      "execution_count": 169,
      "metadata": {
        "colab": {
          "base_uri": "https://localhost:8080/"
        },
        "id": "UcEmBHZ5e7sO",
        "outputId": "2ccfae51-707a-4473-c00b-df7c9a357b93"
      },
      "outputs": [
        {
          "output_type": "execute_result",
          "data": {
            "text/plain": [
              "[{'query': \"MATCH (m:Movie)<-[:ACTED_IN]-(a1:Person {name: 'Robert De Niro'}), (m)<-[:ACTED_IN]-(a2:Person {name: 'Al Pacino'}) RETURN m.title\",\n",
              "  'question': 'Which movies have both Robert De Niro and Al Pacino acting together?'},\n",
              " {'query': \"MATCH (m:Movie)<-[:ACTED_IN]-(a1:Person {name: 'Robert De Niro'}), (m)<-[:ACTED_IN]-(a2:Person {name: 'Al Pacino'}) RETURN m.title\",\n",
              "  'question': 'Which movies have both Robert De Niro and Al Pacino acting together?'},\n",
              " {'query': \"MATCH (m:Movie)<-[:ACTED_IN]-(a1:Person {name: 'Robert De Niro'}), (m)<-[:ACTED_IN]-(a2:Person {name: 'Al Pacino'}) RETURN m.title\",\n",
              "  'question': 'Which movies have both Robert De Niro and Al Pacino acting together?'}]"
            ]
          },
          "metadata": {},
          "execution_count": 169
        }
      ],
      "source": [
        "example_selector.select_examples({\"question\":\"Find movies where Christian Bale and Djokovic acted together\"})"
      ]
    },
    {
      "cell_type": "code",
      "execution_count": 170,
      "metadata": {
        "id": "5XRSDIUKe7sO"
      },
      "outputs": [],
      "source": [
        "from langchain_core.output_parsers import StrOutputParser\n",
        "\n",
        "text2cypher_prompt = ChatPromptTemplate.from_messages(\n",
        "    [\n",
        "        (\n",
        "            \"system\",\n",
        "            (\n",
        "            \"Translate the given question directly into a Cypher query without any explanation, formatting, or additional text. Provide only the query as the response.\"\n",
        "            \"Do not wrap the response in any backticks or anything else.\"),\n",
        "        ),\n",
        "        (\n",
        "            \"human\",\n",
        "            (\n",
        "                \"\"\"As a Neo4j expert, your task is to generate a syntactically correct Cypher query based on the given input question. Ensure that the response contains only the Cypher query without any additional text or formatting. If the query consists of multiple MATCH and RETURN statements, concatenate them using a semicolon (;). Your response must strictly be the Cypher query.\n",
        "\n",
        "Schema details are provided below:\n",
        "{schema}\n",
        "\n",
        "Additionally, here are some example questions along with their corresponding Cypher queries:\n",
        "{fewshot_examples}\n",
        "\n",
        "User input: {question}\n",
        "Cypher query:\"\"\"\n",
        "            ),\n",
        "        ),\n",
        "    ]\n",
        ")\n",
        "\n",
        "text2cypher_chain = text2cypher_prompt | llm | StrOutputParser()"
      ]
    },
    {
      "cell_type": "code",
      "execution_count": 171,
      "metadata": {
        "id": "wlhhqvkhe7sO"
      },
      "outputs": [],
      "source": [
        "\n",
        "def generate_cypher(state: State) -> State:\n",
        "    \"\"\"\n",
        "    Generates a cypher statement based on the provided schema and user input\n",
        "    \"\"\"\n",
        "    fewshot_examples = (\"\\n \\n\").join(\n",
        "        [\n",
        "            f\"Question: {ex['question']} \\n Cypher:{ex['query']}\"\n",
        "            for ex in example_selector.select_examples(\n",
        "                {\"question\": state.get(\"messages\")[0]}\n",
        "            )\n",
        "        ]\n",
        "    )\n",
        "    generated_cypher = text2cypher_chain.invoke(\n",
        "        {\n",
        "            \"question\": state.get(\"messages\")[0],\n",
        "            \"fewshot_examples\": fewshot_examples,\n",
        "            \"schema\": graph.schema,\n",
        "        }\n",
        "    )\n",
        "    return {\"cypher_statement\": generated_cypher}\n"
      ]
    },
    {
      "cell_type": "code",
      "execution_count": 172,
      "metadata": {
        "id": "IozpGki_e7sO"
      },
      "outputs": [],
      "source": [
        "from typing import List, Optional\n",
        "\n",
        "validate_cypher_system = \"\"\"\n",
        "You're a Cypher expert reviewing a query written by another developer.\n",
        "\"\"\"\n",
        "\n",
        "validate_cypher_user = \"\"\"Check the following:\n",
        "\n",
        "Are there any syntax errors in the Cypher query?\n",
        "Are there any missing or undefined variables?\n",
        "Are any node labels missing from the schema?\n",
        "Are any relationship types missing from the schema?\n",
        "Are any properties not defined in the schema?\n",
        "Does the query provide enough information to answer the question?\n",
        "If there are multiple queries (more than one RETURN statement), concatenate them with a semicolon (;).\n",
        "If semicolon doesn’t work, encapsulate all queries in a CALL statement.\n",
        "\n",
        "Examples of common errors:\n",
        "\n",
        "Property rating does not exist for label Movie. Did you mean imdbRating?\n",
        "Relationship ACTED does not exist. Did you mean ACTED_IN?\n",
        "Schema:\n",
        "{schema}\n",
        "\n",
        "The question:\n",
        "{question}\n",
        "\n",
        "The Cypher query:\n",
        "{cypher}\n",
        "\n",
        "Make sure there are no mistakes!\"\"\"\n",
        "\n",
        "validate_cypher_prompt = ChatPromptTemplate.from_messages(\n",
        "    [\n",
        "        (\n",
        "            \"system\",\n",
        "            validate_cypher_system,\n",
        "        ),\n",
        "        (\n",
        "            \"human\",\n",
        "            (validate_cypher_user),\n",
        "        ),\n",
        "    ]\n",
        ")\n"
      ]
    },
    {
      "cell_type": "code",
      "execution_count": 173,
      "metadata": {
        "id": "trAPd6RGe7sP"
      },
      "outputs": [],
      "source": [
        "\n",
        "class ValidateCypherOutput(BaseModel):\n",
        "    \"\"\"\n",
        "    Represents the validation result of a Cypher query's output,\n",
        "    including any errors and applied filters.\n",
        "    \"\"\"\n",
        "\n",
        "    errors: Optional[List[str]] = Field(\n",
        "        description=\"A list of syntax or semantical errors in the Cypher statement. Always explain the discrepancy between schema and Cypher statement\"\n",
        "    )\n",
        "\n",
        "\n",
        "validate_cypher_chain = validate_cypher_prompt | llm.with_structured_output(\n",
        "    ValidateCypherOutput\n",
        ")"
      ]
    },
    {
      "cell_type": "code",
      "execution_count": 174,
      "metadata": {
        "id": "wT1P1RGme7sP"
      },
      "outputs": [],
      "source": [
        "from neo4j.exceptions import CypherSyntaxError\n",
        "\n",
        "\n",
        "def validate_cypher(state: State) -> State:\n",
        "    \"\"\"\n",
        "    Validates the Cypher statements.\n",
        "    \"\"\"\n",
        "    errors = []\n",
        "\n",
        "    # Check for syntax errors\n",
        "    try:\n",
        "        graph.query(f\"EXPLAIN {state.get('cypher_statement')}\")\n",
        "    except CypherSyntaxError as e:\n",
        "        errors.append(e.message)\n",
        "    # Use LLM to find additional potential errors and get the mapping for values\n",
        "    llm_output = validate_cypher_chain.invoke(\n",
        "        {\n",
        "            \"question\": state.get(\"messages\")[0],\n",
        "            \"schema\": graph.schema,\n",
        "            \"cypher\": state.get(\"cypher_statement\"),\n",
        "        }\n",
        "    )\n",
        "    if llm_output.errors:\n",
        "        errors.extend(llm_output.errors)\n",
        "\n",
        "    if errors:\n",
        "        next_action = \"correct_cypher\"\n",
        "    else:\n",
        "        next_action = \"execute_cypher\"\n",
        "    return {\n",
        "        \"next_action\": next_action,\n",
        "        \"cypher_errors\": errors,\n",
        "    }"
      ]
    },
    {
      "cell_type": "code",
      "execution_count": 175,
      "metadata": {
        "id": "IK012yDHe7sP"
      },
      "outputs": [],
      "source": [
        "correct_cypher_prompt = ChatPromptTemplate.from_messages(\n",
        "    [\n",
        "        (\n",
        "            \"system\",\n",
        "            (\n",
        "                \"You are a Cypher expert reviewing a statement written by a junior developer. \"\n",
        "                \"You need to correct the Cypher statement based on the provided errors. No pre-amble.\"\n",
        "                \"Do not wrap the response in any backticks or anything else. Respond with a Cypher statement only!\"\n",
        "            ),\n",
        "        ),\n",
        "        (\n",
        "            \"human\",\n",
        "            (\n",
        "                \"\"\"Check for invalid syntax or semantics and return a corrected Cypher statement.\n",
        "\n",
        "Schema:\n",
        "{schema}\n",
        "\n",
        "Note: Do not include any explanations or apologies in your responses.\n",
        "Do not wrap the response in any backticks or anything else.\n",
        "Respond with a Cypher statement only!\n",
        "\n",
        "Do not respond to any questions that might ask anything else than for you to construct a Cypher statement.\n",
        "\n",
        "The question is:\n",
        "{question}\n",
        "\n",
        "The Cypher statement is:\n",
        "{cypher}\n",
        "\n",
        "The errors are:\n",
        "{errors}\n",
        "\n",
        "Corrected Cypher statement: \"\"\"\n",
        "            ),\n",
        "        ),\n",
        "    ]\n",
        ")\n",
        "\n",
        "correct_cypher_chain = correct_cypher_prompt | llm | StrOutputParser()\n"
      ]
    },
    {
      "cell_type": "code",
      "execution_count": 176,
      "metadata": {
        "id": "9Re6CYhwe7sP"
      },
      "outputs": [],
      "source": [
        "def correct_cypher(state: State) -> State:\n",
        "    \"\"\"\n",
        "    Correct the Cypher statement based on the provided errors.\n",
        "    \"\"\"\n",
        "    corrected_cypher = correct_cypher_chain.invoke(\n",
        "        {\n",
        "            \"question\": state.get(\"messages\")[0],\n",
        "            \"errors\": state.get(\"cypher_errors\"),\n",
        "            \"cypher\": state.get(\"cypher_statement\"),\n",
        "            \"schema\": graph.schema,\n",
        "        }\n",
        "    )\n",
        "    return {\n",
        "        \"next_action\": \"validate_cypher\",\n",
        "        \"cypher_statement\": corrected_cypher,\n",
        "    }\n"
      ]
    },
    {
      "cell_type": "code",
      "execution_count": 177,
      "metadata": {
        "id": "48-eOPkAe7sQ"
      },
      "outputs": [],
      "source": [
        "def execute_cypher(state: State) -> State:\n",
        "    \"\"\"\n",
        "    Executes the given Cypher statement.\n",
        "    \"\"\"\n",
        "    records = graph.query(state.get(\"cypher_statement\"))\n",
        "    return {\n",
        "        \"database_records\": records if records else no_results,\n",
        "        \"next_action\": \"end\"\n",
        "    }"
      ]
    },
    {
      "cell_type": "code",
      "execution_count": 178,
      "metadata": {
        "id": "e1lJ7yUje7sQ"
      },
      "outputs": [],
      "source": [
        "generate_final_prompt = ChatPromptTemplate.from_messages(\n",
        "    [\n",
        "        (\n",
        "            \"system\",\n",
        "            \"You are a helpful assistant\",\n",
        "        ),\n",
        "        (\n",
        "            \"human\",\n",
        "            (\n",
        "                \"\"\"Use the following results retrieved from a database to provide\n",
        "a succinct, definitive answer to the user's question.\n",
        "\n",
        "Respond as if you are answering the question directly.\n",
        "\n",
        "Results: {results}\n",
        "Question: {question}\"\"\"\n",
        "            ),\n",
        "        ),\n",
        "    ]\n",
        ")\n",
        "\n",
        "generate_final_chain = generate_final_prompt | llm | StrOutputParser()\n",
        "\n",
        "\n",
        "def generate_final_answer(state: State) -> State:\n",
        "    \"\"\"\n",
        "    Decides if the question is related to movies.\n",
        "    \"\"\"\n",
        "    final_answer = generate_final_chain.invoke(\n",
        "        {\"question\": state.get(\"messages\")[0], \"results\": state.get(\"database_records\")}\n",
        "    )\n",
        "    print(final_answer)\n",
        "    return {\"messages\": [final_answer]}\n",
        "\n"
      ]
    },
    {
      "cell_type": "code",
      "execution_count": 179,
      "metadata": {
        "id": "7iKR87BKe7sQ"
      },
      "outputs": [],
      "source": [
        "def guardrails_condition(\n",
        "    state: State,\n",
        ") -> Literal[\"generate_cypher\", \"tavily_search_node\"]:\n",
        "    if state.get(\"next_action\") == \"web\":\n",
        "        return \"tavily_search_node\"\n",
        "    elif state.get(\"next_action\") == \"movie\":\n",
        "        return \"generate_cypher\"\n",
        "\n",
        "\n",
        "def validate_cypher_condition(\n",
        "    state: State,\n",
        ") -> Literal[\"correct_cypher\",\"execute_cypher\"]:\n",
        "    if state.get(\"next_action\") == \"correct_cypher\":\n",
        "        return \"correct_cypher\"\n",
        "    elif state.get(\"next_action\") == \"execute_cypher\":\n",
        "        return \"execute_cypher\"\n",
        ""
      ]
    },
    {
      "cell_type": "code",
      "execution_count": 218,
      "metadata": {
        "colab": {
          "base_uri": "https://localhost:8080/",
          "height": 647
        },
        "id": "wG1lA6Fke7sQ",
        "outputId": "0c1c636e-c590-447c-d0de-a1d974a20bb2"
      },
      "outputs": [
        {
          "output_type": "display_data",
          "data": {
            "image/png": "[encoded data removed]",
            "text/plain": [
              "<IPython.core.display.Image object>"
            ]
          },
          "metadata": {}
        }
      ],
      "source": [
        "from IPython.display import Image, display\n",
        "from langgraph.graph import END, START, StateGraph\n",
        "\n",
        "langgraph = StateGraph(State)\n",
        "langgraph.add_node(guardrails)\n",
        "langgraph.add_node(generate_cypher)\n",
        "langgraph.add_node(tavily_search_node)\n",
        "langgraph.add_node(validate_cypher)\n",
        "langgraph.add_node(correct_cypher)\n",
        "langgraph.add_node(execute_cypher)\n",
        "langgraph.add_node(generate_final_answer)\n",
        "\n",
        "langgraph.add_edge(START, \"guardrails\")\n",
        "langgraph.add_conditional_edges(\n",
        "    \"guardrails\",\n",
        "    guardrails_condition,\n",
        ")\n",
        "langgraph.add_edge(\"tavily_search_node\",END)\n",
        "langgraph.add_edge(\"generate_cypher\", \"validate_cypher\")\n",
        "langgraph.add_conditional_edges(\n",
        "    \"validate_cypher\",\n",
        "    validate_cypher_condition,\n",
        ")\n",
        "langgraph.add_edge(\"execute_cypher\", \"generate_final_answer\")\n",
        "langgraph.add_edge(\"correct_cypher\", \"validate_cypher\")\n",
        "langgraph.add_edge(\"generate_final_answer\", END)\n",
        "\n",
        "langgraph = langgraph.compile(\n",
        "    checkpointer=MemorySaver(),\n",
        ")\n",
        "\n",
        "\n",
        "display(Image(langgraph.get_graph().draw_mermaid_png()))"
      ]
    },
    {
      "cell_type": "code",
      "source": [
        "import uuid\n",
        "\n",
        "thread_id = str(uuid.uuid4())\n",
        "\n",
        "config = {\"configurable\": {\"thread_id\": thread_id,\"force_refresh\": str(uuid.uuid4())}}"
      ],
      "metadata": {
        "id": "9apARNOj315G"
      },
      "execution_count": 230,
      "outputs": []
    },
    {
      "cell_type": "code",
      "execution_count": 233,
      "metadata": {
        "id": "cmOJ4XXme7sQ"
      },
      "outputs": [],
      "source": [
        "\n",
        "user_input = \"Who all acted in City Hall\"\n",
        "\n"
      ]
    },
    {
      "cell_type": "code",
      "source": [
        "output = langgraph.invoke({\"messages\": [user_input]}, config)\n",
        "generated_text = output[\"messages\"][-1]\n",
        "\n",
        "print(generated_text)"
      ],
      "metadata": {
        "colab": {
          "base_uri": "https://localhost:8080/"
        },
        "id": "QC79_J76zFlh",
        "outputId": "e2bf86db-7163-4876-84e8-e6df4f13114a"
      },
      "execution_count": 234,
      "outputs": [
        {
          "output_type": "stream",
          "name": "stdout",
          "text": [
            "Al Pacino, Bridget Fonda, John Cusack, and Danny Aiello acted in City Hall. \n",
            "\n",
            "Al Pacino, Bridget Fonda, John Cusack, and Danny Aiello acted in City Hall. \n",
            "\n"
          ]
        }
      ]
    },
    {
      "cell_type": "code",
      "source": [
        "!pip install gradio"
      ],
      "metadata": {
        "colab": {
          "base_uri": "https://localhost:8080/"
        },
        "id": "SsIsBCeVmALX",
        "outputId": "17054e90-b5a6-4c7f-b1c7-e89aba622d73"
      },
      "execution_count": 183,
      "outputs": [
        {
          "output_type": "stream",
          "name": "stdout",
          "text": [
            "Requirement already satisfied: gradio in /usr/local/lib/python3.11/dist-packages (5.21.0)\n",
            "Requirement already satisfied: aiofiles<24.0,>=22.0 in /usr/local/lib/python3.11/dist-packages (from gradio) (23.2.1)\n",
            "Requirement already satisfied: anyio<5.0,>=3.0 in /usr/local/lib/python3.11/dist-packages (from gradio) (3.7.1)\n",
            "Requirement already satisfied: fastapi<1.0,>=0.115.2 in /usr/local/lib/python3.11/dist-packages (from gradio) (0.115.11)\n",
            "Requirement already satisfied: ffmpy in /usr/local/lib/python3.11/dist-packages (from gradio) (0.5.0)\n",
            "Requirement already satisfied: gradio-client==1.7.2 in /usr/local/lib/python3.11/dist-packages (from gradio) (1.7.2)\n",
            "Requirement already satisfied: groovy~=0.1 in /usr/local/lib/python3.11/dist-packages (from gradio) (0.1.2)\n",
            "Requirement already satisfied: httpx>=0.24.1 in /usr/local/lib/python3.11/dist-packages (from gradio) (0.28.1)\n",
            "Requirement already satisfied: huggingface-hub>=0.28.1 in /usr/local/lib/python3.11/dist-packages (from gradio) (0.28.1)\n",
            "Requirement already satisfied: jinja2<4.0 in /usr/local/lib/python3.11/dist-packages (from gradio) (3.1.6)\n",
            "Requirement already satisfied: markupsafe~=2.0 in /usr/local/lib/python3.11/dist-packages (from gradio) (2.1.5)\n",
            "Requirement already satisfied: numpy<3.0,>=1.0 in /usr/local/lib/python3.11/dist-packages (from gradio) (1.26.4)\n",
            "Requirement already satisfied: orjson~=3.0 in /usr/local/lib/python3.11/dist-packages (from gradio) (3.10.15)\n",
            "Requirement already satisfied: packaging in /usr/local/lib/python3.11/dist-packages (from gradio) (24.2)\n",
            "Requirement already satisfied: pandas<3.0,>=1.0 in /usr/local/lib/python3.11/dist-packages (from gradio) (2.2.2)\n",
            "Requirement already satisfied: pillow<12.0,>=8.0 in /usr/local/lib/python3.11/dist-packages (from gradio) (11.1.0)\n",
            "Requirement already satisfied: pydantic>=2.0 in /usr/local/lib/python3.11/dist-packages (from gradio) (2.10.6)\n",
            "Requirement already satisfied: pydub in /usr/local/lib/python3.11/dist-packages (from gradio) (0.25.1)\n",
            "Requirement already satisfied: python-multipart>=0.0.18 in /usr/local/lib/python3.11/dist-packages (from gradio) (0.0.20)\n",
            "Requirement already satisfied: pyyaml<7.0,>=5.0 in /usr/local/lib/python3.11/dist-packages (from gradio) (6.0.2)\n",
            "Requirement already satisfied: ruff>=0.9.3 in /usr/local/lib/python3.11/dist-packages (from gradio) (0.11.0)\n",
            "Requirement already satisfied: safehttpx<0.2.0,>=0.1.6 in /usr/local/lib/python3.11/dist-packages (from gradio) (0.1.6)\n",
            "Requirement already satisfied: semantic-version~=2.0 in /usr/local/lib/python3.11/dist-packages (from gradio) (2.10.0)\n",
            "Requirement already satisfied: starlette<1.0,>=0.40.0 in /usr/local/lib/python3.11/dist-packages (from gradio) (0.46.1)\n",
            "Requirement already satisfied: tomlkit<0.14.0,>=0.12.0 in /usr/local/lib/python3.11/dist-packages (from gradio) (0.13.2)\n",
            "Requirement already satisfied: typer<1.0,>=0.12 in /usr/local/lib/python3.11/dist-packages (from gradio) (0.15.2)\n",
            "Requirement already satisfied: typing-extensions~=4.0 in /usr/local/lib/python3.11/dist-packages (from gradio) (4.12.2)\n",
            "Requirement already satisfied: uvicorn>=0.14.0 in /usr/local/lib/python3.11/dist-packages (from gradio) (0.34.0)\n",
            "Requirement already satisfied: fsspec in /usr/local/lib/python3.11/dist-packages (from gradio-client==1.7.2->gradio) (2024.10.0)\n",
            "Requirement already satisfied: websockets<16.0,>=10.0 in /usr/local/lib/python3.11/dist-packages (from gradio-client==1.7.2->gradio) (14.2)\n",
            "Requirement already satisfied: idna>=2.8 in /usr/local/lib/python3.11/dist-packages (from anyio<5.0,>=3.0->gradio) (3.10)\n",
            "Requirement already satisfied: sniffio>=1.1 in /usr/local/lib/python3.11/dist-packages (from anyio<5.0,>=3.0->gradio) (1.3.1)\n",
            "Requirement already satisfied: certifi in /usr/local/lib/python3.11/dist-packages (from httpx>=0.24.1->gradio) (2025.1.31)\n",
            "Requirement already satisfied: httpcore==1.* in /usr/local/lib/python3.11/dist-packages (from httpx>=0.24.1->gradio) (1.0.7)\n",
            "Requirement already satisfied: h11<0.15,>=0.13 in /usr/local/lib/python3.11/dist-packages (from httpcore==1.*->httpx>=0.24.1->gradio) (0.14.0)\n",
            "Requirement already satisfied: filelock in /usr/local/lib/python3.11/dist-packages (from huggingface-hub>=0.28.1->gradio) (3.17.0)\n",
            "Requirement already satisfied: requests in /usr/local/lib/python3.11/dist-packages (from huggingface-hub>=0.28.1->gradio) (2.32.3)\n",
            "Requirement already satisfied: tqdm>=4.42.1 in /usr/local/lib/python3.11/dist-packages (from huggingface-hub>=0.28.1->gradio) (4.67.1)\n",
            "Requirement already satisfied: python-dateutil>=2.8.2 in /usr/local/lib/python3.11/dist-packages (from pandas<3.0,>=1.0->gradio) (2.8.2)\n",
            "Requirement already satisfied: pytz>=2020.1 in /usr/local/lib/python3.11/dist-packages (from pandas<3.0,>=1.0->gradio) (2025.1)\n",
            "Requirement already satisfied: tzdata>=2022.7 in /usr/local/lib/python3.11/dist-packages (from pandas<3.0,>=1.0->gradio) (2025.1)\n",
            "Requirement already satisfied: annotated-types>=0.6.0 in /usr/local/lib/python3.11/dist-packages (from pydantic>=2.0->gradio) (0.7.0)\n",
            "Requirement already satisfied: pydantic-core==2.27.2 in /usr/local/lib/python3.11/dist-packages (from pydantic>=2.0->gradio) (2.27.2)\n",
            "Requirement already satisfied: click>=8.0.0 in /usr/local/lib/python3.11/dist-packages (from typer<1.0,>=0.12->gradio) (8.1.8)\n",
            "Requirement already satisfied: shellingham>=1.3.0 in /usr/local/lib/python3.11/dist-packages (from typer<1.0,>=0.12->gradio) (1.5.4)\n",
            "Requirement already satisfied: rich>=10.11.0 in /usr/local/lib/python3.11/dist-packages (from typer<1.0,>=0.12->gradio) (13.9.4)\n",
            "Requirement already satisfied: six>=1.5 in /usr/local/lib/python3.11/dist-packages (from python-dateutil>=2.8.2->pandas<3.0,>=1.0->gradio) (1.17.0)\n",
            "Requirement already satisfied: markdown-it-py>=2.2.0 in /usr/local/lib/python3.11/dist-packages (from rich>=10.11.0->typer<1.0,>=0.12->gradio) (3.0.0)\n",
            "Requirement already satisfied: pygments<3.0.0,>=2.13.0 in /usr/local/lib/python3.11/dist-packages (from rich>=10.11.0->typer<1.0,>=0.12->gradio) (2.18.0)\n",
            "Requirement already satisfied: charset-normalizer<4,>=2 in /usr/local/lib/python3.11/dist-packages (from requests->huggingface-hub>=0.28.1->gradio) (3.4.1)\n",
            "Requirement already satisfied: urllib3<3,>=1.21.1 in /usr/local/lib/python3.11/dist-packages (from requests->huggingface-hub>=0.28.1->gradio) (2.3.0)\n",
            "Requirement already satisfied: mdurl~=0.1 in /usr/local/lib/python3.11/dist-packages (from markdown-it-py>=2.2.0->rich>=10.11.0->typer<1.0,>=0.12->gradio) (0.1.2)\n"
          ]
        }
      ]
    },
    {
      "cell_type": "code",
      "execution_count": 229,
      "metadata": {
        "colab": {
          "base_uri": "https://localhost:8080/"
        },
        "id": "guZ7qMwPe7sR",
        "outputId": "13ad89e4-b35f-4395-c81e-b0578fc69b50"
      },
      "outputs": [
        {
          "output_type": "stream",
          "name": "stdout",
          "text": [
            "Colab notebook detected. To show errors in colab notebook, set debug=True in launch()\n",
            "* Running on public URL: https://a2045e5b08af280671.gradio.live\n",
            "\n",
            "This share link expires in 72 hours. For free permanent hosting and GPU upgrades, run `gradio deploy` from the terminal in the working directory to deploy to Hugging Face Spaces (https://huggingface.co/spaces)\n",
            " * Serving Flask app ' '\n",
            " * Debug mode: on\n"
          ]
        },
        {
          "output_type": "stream",
          "name": "stderr",
          "text": [
            "INFO:werkzeug:\u001b[31m\u001b[1mWARNING: This is a development server. Do not use it in a production deployment. Use a production WSGI server instead.\u001b[0m\n",
            " * Running on http://127.0.0.1:5000\n",
            "INFO:werkzeug:\u001b[33mPress CTRL+C to quit\u001b[0m\n",
            "INFO:werkzeug: * Restarting with stat\n"
          ]
        },
        {
          "output_type": "stream",
          "name": "stdout",
          "text": [
            "The genres for City Hall are Drama and Thriller. \n",
            "\n"
          ]
        }
      ],
      "source": [
        "from flask import Flask\n",
        "import gradio as gr\n",
        "\n",
        "app = Flask(\" \")\n",
        "\n",
        "def process_text(text):\n",
        "\n",
        "  output = langgraph.invoke({\"messages\": [user_input]}, config)\n",
        "  generated_text = output[\"messages\"][-1]\n",
        "  return generated_text\n",
        "\n",
        "@app.route('/')\n",
        "def index():\n",
        "    return \"Flask server is running! Access Gradio at /gradio\"\n",
        "\n",
        "gr_interface = gr.Interface(\n",
        "    fn=process_text,\n",
        "    inputs=gr.Textbox(label=\"Enter Text\"),\n",
        "    outputs=gr.Textbox(label=\"Result\"),\n",
        "    title=\"Movie Database Query Engine\",\n",
        "    description=\" \"\n",
        ")\n",
        "\n",
        "gr_app = gr_interface.launch(server_name=\"0.0.0.0\", share=True, inline=False)\n",
        "\n",
        "\n",
        "app.run(debug=True, port=5000)"
      ]
    },
    {
      "cell_type": "code",
      "execution_count": 184,
      "metadata": {
        "id": "_qYwlEb9e7sR"
      },
      "outputs": [],
      "source": [
        "\n"
      ]
    }
  ],
  "metadata": {
    "kernelspec": {
      "display_name": "Python 3",
      "language": "python",
      "name": "python3"
    },
    "language_info": {
      "codemirror_mode": {
        "name": "ipython",
        "version": 3
      },
      "file_extension": ".py",
      "mimetype": "text/x-python",
      "name": "python",
      "nbconvert_exporter": "python",
      "pygments_lexer": "ipython3",
      "version": "3.10.16"
    },
    "colab": {
      "provenance": []
    }
  },
  "nbformat": 4,
  "nbformat_minor": 0
}